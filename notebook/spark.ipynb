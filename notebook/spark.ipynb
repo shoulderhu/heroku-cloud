{
 "cells": [
  {
   "cell_type": "code",
   "execution_count": 2,
   "metadata": {},
   "outputs": [],
   "source": [
    "from pyspark import SparkConf, SparkContext"
   ]
  },
  {
   "cell_type": "code",
   "execution_count": 4,
   "metadata": {},
   "outputs": [],
   "source": [
    "#conf = SparkConf().setMaster(\"yarn\")\n",
    "sc = SparkContext()"
   ]
  },
  {
   "cell_type": "code",
   "execution_count": 5,
   "metadata": {},
   "outputs": [
    {
     "data": {
      "text/html": [
       "\n",
       "        <div>\n",
       "            <p><b>SparkContext</b></p>\n",
       "\n",
       "            <p><a href=\"http://192.168.1.108:4041\">Spark UI</a></p>\n",
       "\n",
       "            <dl>\n",
       "              <dt>Version</dt>\n",
       "                <dd><code>v2.4.3</code></dd>\n",
       "              <dt>Master</dt>\n",
       "                <dd><code>local[*]</code></dd>\n",
       "              <dt>AppName</dt>\n",
       "                <dd><code>pyspark-shell</code></dd>\n",
       "            </dl>\n",
       "        </div>\n",
       "        "
      ],
      "text/plain": [
       "<SparkContext master=local[*] appName=pyspark-shell>"
      ]
     },
     "execution_count": 5,
     "metadata": {},
     "output_type": "execute_result"
    }
   ],
   "source": [
    "sc"
   ]
  },
  {
   "cell_type": "code",
   "execution_count": 8,
   "metadata": {},
   "outputs": [],
   "source": [
    "text = sc.textFile(\"hdfs://192.168.1.100:9000/csv/student.csv\")"
   ]
  },
  {
   "cell_type": "code",
   "execution_count": 9,
   "metadata": {},
   "outputs": [
    {
     "data": {
      "text/plain": [
       "'學校名稱,日間∕進修別,等級別,一年級男生,一年級女生,二年級男生,二年級女生,三年級男生,三年級女生,四年級男生,四年級女生,五年級男生,五年級女生,六年級男生,六年級女生,七年級男生,七年級女生,延修生男生,延修生女生,縣市名稱,學年度'"
      ]
     },
     "execution_count": 9,
     "metadata": {},
     "output_type": "execute_result"
    }
   ],
   "source": [
    "first = text.first()\n",
    "first"
   ]
  },
  {
   "cell_type": "code",
   "execution_count": 10,
   "metadata": {},
   "outputs": [
    {
     "data": {
      "text/plain": [
       "'國立政治大學,日,博士,117,76,79,62,94,58,98,57,75,53,61,43,59,41,0,0,臺北市,103'"
      ]
     },
     "execution_count": 10,
     "metadata": {},
     "output_type": "execute_result"
    }
   ],
   "source": [
    "data = text.filter(lambda x: x != first)\n",
    "data.first()"
   ]
  },
  {
   "cell_type": "code",
   "execution_count": 11,
   "metadata": {},
   "outputs": [],
   "source": [
    "data = data.map(lambda x: x.split(\",\"))"
   ]
  },
  {
   "cell_type": "code",
   "execution_count": 12,
   "metadata": {
    "scrolled": true
   },
   "outputs": [
    {
     "data": {
      "text/plain": [
       "[['國立政治大學',\n",
       "  '日',\n",
       "  '博士',\n",
       "  '117',\n",
       "  '76',\n",
       "  '79',\n",
       "  '62',\n",
       "  '94',\n",
       "  '58',\n",
       "  '98',\n",
       "  '57',\n",
       "  '75',\n",
       "  '53',\n",
       "  '61',\n",
       "  '43',\n",
       "  '59',\n",
       "  '41',\n",
       "  '0',\n",
       "  '0',\n",
       "  '臺北市',\n",
       "  '103']]"
      ]
     },
     "execution_count": 12,
     "metadata": {},
     "output_type": "execute_result"
    }
   ],
   "source": [
    "data.take(1)"
   ]
  },
  {
   "cell_type": "code",
   "execution_count": 13,
   "metadata": {
    "scrolled": true
   },
   "outputs": [
    {
     "data": {
      "text/plain": [
       "[['國立政治大學', '日', '博士', '117', '76', '臺北市', '103'],\n",
       " ['國立政治大學', '日', '碩士', '626', '707', '臺北市', '103'],\n",
       " ['國立政治大學', '日', '學士', '859', '1359', '臺北市', '103']]"
      ]
     },
     "execution_count": 13,
     "metadata": {},
     "output_type": "execute_result"
    }
   ],
   "source": [
    "data.map(lambda x: x[0:3] + x[3:5] + x[19:]).take(3)"
   ]
  },
  {
   "cell_type": "code",
   "execution_count": 13,
   "metadata": {
    "scrolled": true
   },
   "outputs": [
    {
     "data": {
      "text/plain": [
       "'學校名稱,日間∕進修別,等級別,一年級男生,一年級女生,二年級男生,二年級女生,三年級男生,三年級女生,四年級男生,四年級女生,五年級男生,五年級女生,六年級男生,六年級女生,七年級男生,七年級女生,延修生男生,延修生女生,縣市名稱,學年度'"
      ]
     },
     "execution_count": 13,
     "metadata": {},
     "output_type": "execute_result"
    }
   ],
   "source": [
    "first"
   ]
  },
  {
   "cell_type": "code",
   "execution_count": 14,
   "metadata": {},
   "outputs": [],
   "source": [
    "def to_int(x):\n",
    "    for i, j in enumerate(x[3:-2]):\n",
    "        x[i + 3] = int(j)\n",
    "    return x"
   ]
  },
  {
   "cell_type": "code",
   "execution_count": 15,
   "metadata": {},
   "outputs": [],
   "source": [
    "def student_filter(school=None, div=None, level=None, grade=None, gender=None, loc=None, year=None):\n",
    "    filter_data = data\n",
    "    \n",
    "    if school:\n",
    "        filter_data = filter_data.filter(lambda x: x[0] == school)\n",
    "    if div:\n",
    "        filter_data = filter_data.filter(lambda x: x[1] == div)\n",
    "    if level:\n",
    "        filter_data = filter_data.filter(lambda x: x[2] == level)   \n",
    "    if loc:\n",
    "        filter_data = filter_data.filter(lambda x: x[19] == loc)\n",
    "    if year:\n",
    "        filter_data = filter_data.filter(lambda x: x[20] == year)\n",
    "    if grade:\n",
    "        if grade == \"一年級\":\n",
    "            filter_data = filter_data.map(lambda x: x[0:5] + x[19:])\n",
    "        elif grade == \"二年級\":\n",
    "            filter_data = filter_data.map(lambda x: x[0:3] + x[5:7] + x[19:])\n",
    "        elif grade == \"三年級\":\n",
    "            filter_data = filter_data.map(lambda x: x[0:3] + x[7:9] + x[19:])\n",
    "        elif grade == \"四年級\":\n",
    "            filter_data = filter_data.map(lambda x: x[0:3] + x[9:11] + x[19:])\n",
    "        elif grade == \"五年級\":\n",
    "            filter_data = filter_data.map(lambda x: x[0:3] + x[11:13] + x[19:])\n",
    "        elif grade == \"六年級\":\n",
    "            filter_data = filter_data.map(lambda x: x[0:3] + x[13:15] + x[19:])\n",
    "        elif grade == \"七年級\":\n",
    "            filter_data = filter_data.map(lambda x: x[0:3] + x[15:17] + x[19:])\n",
    "        elif grade == \"延修生\":\n",
    "            filter_data = filter_data.map(lambda x: x[0:3] + x[17:])\n",
    "        if gender == \"男生\":\n",
    "            filter_data = filter_data.map(lambda x: x[0:4] + x[5:])\n",
    "        elif gender == \"女生\":\n",
    "            filter_data = filter_data.map(lambda x: x[0:3] + x[4:])\n",
    "    if grade == None and gender:\n",
    "        if gender == \"男生\":\n",
    "            filter_data = filter_data.map(lambda x: x[0:3] + x[3:18:2] + x[19:])\n",
    "        elif gender == \"女生\":\n",
    "            filter_data = filter_data.map(lambda x: x[0:3] + x[4:19:2] + x[19:])\n",
    "    \n",
    "    filter_data = filter_data.map(to_int)\n",
    "    return filter_data.map(lambda x: x[0:3] + [sum(x[3:-2])] + x[-2:]).collect()\n",
    "    "
   ]
  },
  {
   "cell_type": "code",
   "execution_count": 15,
   "metadata": {},
   "outputs": [],
   "source": [
    "def initializaion():\n",
    "    textRDD = sc.textFile(\"hdfs://name:9000/csv/student.csv\")\n",
    "    text1 = textRDD.collect()\n",
    "    textList = []\n",
    "    for data1 in text1:\n",
    "        textList.append(data1.split(','))\n",
    "    tableRDD = sc.parallelize(textList)\n",
    "    \n",
    "    return tableRDD"
   ]
  },
  {
   "cell_type": "code",
   "execution_count": 17,
   "metadata": {},
   "outputs": [
    {
     "data": {
      "text/plain": [
       "[['國立臺灣大學', '日', '博士', 2984, '臺北市', '103'],\n",
       " ['國立臺灣大學', '日', '碩士', 5940, '臺北市', '103'],\n",
       " ['國立臺灣大學', '日', '學士', 9425, '臺北市', '103'],\n",
       " ['國立臺灣大學', '職', '碩士', 771, '臺北市', '103'],\n",
       " ['國立臺灣大學', '進', '學士', 4, '臺北市', '103'],\n",
       " ['國立臺灣大學', '日', '博士', 2794, '臺北市', '104'],\n",
       " ['國立臺灣大學', '日', '碩士', 6136, '臺北市', '104'],\n",
       " ['國立臺灣大學', '日', '學士', 9441, '臺北市', '104'],\n",
       " ['國立臺灣大學', '職', '碩士', 778, '臺北市', '104'],\n",
       " ['國立臺灣大學', '進', '學士', 1, '臺北市', '104'],\n",
       " ['國立臺灣大學', '日', '博士', 2679, '臺北市', '105'],\n",
       " ['國立臺灣大學', '日', '碩士', 6160, '臺北市', '105'],\n",
       " ['國立臺灣大學', '日', '學士', 9403, '臺北市', '105'],\n",
       " ['國立臺灣大學', '職', '碩士', 842, '臺北市', '105'],\n",
       " ['國立臺灣大學', '日', '博士', 2542, '臺北市', '106'],\n",
       " ['國立臺灣大學', '日', '碩士', 6188, '臺北市', '106'],\n",
       " ['國立臺灣大學', '日', '學士', 9393, '臺北市', '106'],\n",
       " ['國立臺灣大學', '職', '碩士', 930, '臺北市', '106'],\n",
       " ['國立臺灣大學', '進', '學士', 1, '臺北市', '106'],\n",
       " ['國立臺灣大學', '日', '博士', 2405, '臺北市', '107'],\n",
       " ['國立臺灣大學', '日', '碩士', 6178, '臺北市', '107'],\n",
       " ['國立臺灣大學', '日', '學士', 9447, '臺北市', '107'],\n",
       " ['國立臺灣大學', '職', '碩士', 904, '臺北市', '107']]"
      ]
     },
     "execution_count": 17,
     "metadata": {},
     "output_type": "execute_result"
    }
   ],
   "source": [
    "student_filter(school='國立臺灣大學', gender='男生')"
   ]
  },
  {
   "cell_type": "code",
   "execution_count": 30,
   "metadata": {},
   "outputs": [
    {
     "data": {
      "text/plain": [
       "[['國立臺灣大學', '日', '博士', 489, '臺北市', '103'],\n",
       " ['國立臺灣大學', '日', '碩士', 2429, '臺北市', '103'],\n",
       " ['國立臺灣大學', '日', '學士', 2028, '臺北市', '103'],\n",
       " ['國立臺灣大學', '職', '碩士', 252, '臺北市', '103'],\n",
       " ['國立臺灣大學', '進', '學士', 0, '臺北市', '103'],\n",
       " ['國立臺灣大學', '日', '博士', 456, '臺北市', '104'],\n",
       " ['國立臺灣大學', '日', '碩士', 2457, '臺北市', '104'],\n",
       " ['國立臺灣大學', '日', '學士', 2075, '臺北市', '104'],\n",
       " ['國立臺灣大學', '職', '碩士', 259, '臺北市', '104'],\n",
       " ['國立臺灣大學', '進', '學士', 0, '臺北市', '104'],\n",
       " ['國立臺灣大學', '日', '博士', 471, '臺北市', '105'],\n",
       " ['國立臺灣大學', '日', '碩士', 2478, '臺北市', '105'],\n",
       " ['國立臺灣大學', '日', '學士', 2108, '臺北市', '105'],\n",
       " ['國立臺灣大學', '職', '碩士', 288, '臺北市', '105'],\n",
       " ['國立臺灣大學', '日', '博士', 413, '臺北市', '106'],\n",
       " ['國立臺灣大學', '日', '碩士', 2483, '臺北市', '106'],\n",
       " ['國立臺灣大學', '日', '學士', 2096, '臺北市', '106'],\n",
       " ['國立臺灣大學', '職', '碩士', 345, '臺北市', '106'],\n",
       " ['國立臺灣大學', '進', '學士', 0, '臺北市', '106'],\n",
       " ['國立臺灣大學', '日', '博士', 408, '臺北市', '107'],\n",
       " ['國立臺灣大學', '日', '碩士', 2445, '臺北市', '107'],\n",
       " ['國立臺灣大學', '日', '學士', 2126, '臺北市', '107'],\n",
       " ['國立臺灣大學', '職', '碩士', 321, '臺北市', '107']]"
      ]
     },
     "execution_count": 30,
     "metadata": {},
     "output_type": "execute_result"
    }
   ],
   "source": [
    "student_filter(school='國立臺灣大學', grade='一年級', gender='男生')"
   ]
  },
  {
   "cell_type": "code",
   "execution_count": null,
   "metadata": {},
   "outputs": [],
   "source": []
  }
 ],
 "metadata": {
  "kernelspec": {
   "display_name": "Python 3",
   "language": "python",
   "name": "python3"
  },
  "language_info": {
   "codemirror_mode": {
    "name": "ipython",
    "version": 3
   },
   "file_extension": ".py",
   "mimetype": "text/x-python",
   "name": "python",
   "nbconvert_exporter": "python",
   "pygments_lexer": "ipython3",
   "version": "3.6.8"
  }
 },
 "nbformat": 4,
 "nbformat_minor": 2
}
