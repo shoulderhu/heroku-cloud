{
 "cells": [
  {
   "cell_type": "code",
   "execution_count": null,
   "metadata": {},
   "outputs": [],
   "source": [
    "text_ = text.collect()\n",
    "textList = []\n",
    "for data1 in text_:\n",
    "    textList.append(data1.split(','))"
   ]
  },
  {
   "cell_type": "code",
   "execution_count": null,
   "metadata": {},
   "outputs": [],
   "source": [
    "tableRDD = sc.parallelize(textList)"
   ]
  },
  {
   "cell_type": "code",
   "execution_count": null,
   "metadata": {},
   "outputs": [],
   "source": [
    "tableRDD.take(2)"
   ]
  },
  {
   "cell_type": "code",
   "execution_count": null,
   "metadata": {},
   "outputs": [],
   "source": [
    "def initializaion():\n",
    "    textRDD = sc.textFile(\"hdfs://name:9000/csv/student.csv\")\n",
    "    text1 = textRDD.collect()\n",
    "    textList = []\n",
    "    for data1 in text1:\n",
    "        textList.append(data.split(','))\n",
    "    tableRDD = sc.parallelize(textList)\n",
    "    \n",
    "    return tableRDD"
   ]
  },
  {
   "cell_type": "code",
   "execution_count": null,
   "metadata": {},
   "outputs": [],
   "source": [
    "def filtering(oriRDD, schoolName=None, division=None, level=None, grade=None, gender=None, county=None, year=None):\n",
    "    filteredRDD = oriRDD\n",
    "    if schoolName:\n",
    "        filteredRDD = filteredRDD.filter(lambda x: x[0] == schoolName)\n",
    "    if division:\n",
    "        filteredRDD = filteredRDD.filter(lambda x: x[1] == division)\n",
    "    if level:\n",
    "        filteredRDD = filteredRDD.filter(lambda x: x[2] == level)   \n",
    "    if county:\n",
    "        filteredRDD = filteredRDD.filter(lambda x: x[19] == county)\n",
    "    if year:\n",
    "        filteredRDD = filteredRDD.filter(lambda x: x[20] == year)\n",
    "        \n",
    "    tList = filteredRDD.collect()\n",
    "    if level and grade:\n",
    "        for t in tList:\n",
    "            if grade == '一年級':\n",
    "                del t[5:19]\n",
    "            elif grade == '二年級':\n",
    "                del t[3:5]\n",
    "                del t[5:17]\n",
    "            elif grade == '三年級':\n",
    "                del t[3:7]\n",
    "                del t[5:15]\n",
    "            elif grade == '四年級':\n",
    "                del t[3:9]\n",
    "                del t[5:13]\n",
    "            elif grade == '五年級':\n",
    "                del t[3:11]\n",
    "                del t[5:11]\n",
    "            elif grade == '六年級':\n",
    "                del t[3:13]\n",
    "                del t[5:9]  \n",
    "            elif grade == '七年級':\n",
    "                del t[3:15]\n",
    "                del t[5:7]    \n",
    "            elif grade == '延修生':\n",
    "                del t[3:17]\n",
    "            if gender == '男生':\n",
    "                del t[4]\n",
    "            elif gender == '女生':\n",
    "                del t[3]\n",
    "    elif level and grade == None and gender:\n",
    "        for t in tList:\n",
    "            if gender == '男生':\n",
    "                del t[4:19:2]\n",
    "            elif gender == '女生':\n",
    "                del t[3:18:2]\n",
    "    \n",
    "    for t in tList[1:]:\n",
    "        sumN = 0\n",
    "        for n in t[3:-2]:\n",
    "            sumN = sumN + int(n)\n",
    "        t[3] = str(sumN)\n",
    "        del t[4:-2]\n",
    "    tList[0][3] = '學生人數'\n",
    "    del tList[0][4:-2]\n",
    "    \n",
    "    sumN = 0\n",
    "    for t in tList[1:]:\n",
    "        sumN += int(t[3])\n",
    "        \n",
    "    return {'total': sumN, 'data': tList}"
   ]
  }
 ],
 "metadata": {
  "kernelspec": {
   "display_name": "Python 3",
   "language": "python",
   "name": "python3"
  },
  "language_info": {
   "codemirror_mode": {
    "name": "ipython",
    "version": 3
   },
   "file_extension": ".py",
   "mimetype": "text/x-python",
   "name": "python",
   "nbconvert_exporter": "python",
   "pygments_lexer": "ipython3",
   "version": "3.6.8"
  }
 },
 "nbformat": 4,
 "nbformat_minor": 2
}
