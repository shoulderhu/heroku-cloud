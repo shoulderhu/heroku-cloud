{
 "cells": [
  {
   "cell_type": "code",
   "execution_count": 1,
   "metadata": {},
   "outputs": [],
   "source": [
    "import requests as req\n",
    "import json"
   ]
  },
  {
   "cell_type": "code",
   "execution_count": 23,
   "metadata": {},
   "outputs": [],
   "source": [
    "host = \"https://192.168.1.100:2096\"\n",
    "data = {'kind': 'pyspark'}\n",
    "headers = {'Content-Type': 'application/json'}"
   ]
  },
  {
   "cell_type": "markdown",
   "metadata": {},
   "source": [
    "## Create Session"
   ]
  },
  {
   "cell_type": "code",
   "execution_count": 25,
   "metadata": {
    "scrolled": true
   },
   "outputs": [
    {
     "name": "stderr",
     "output_type": "stream",
     "text": [
      "/home/shoulderhu/GitHub/heroku-cloud-www/venv/lib/python3.6/site-packages/urllib3/connectionpool.py:847: InsecureRequestWarning: Unverified HTTPS request is being made. Adding certificate verification is strongly advised. See: https://urllib3.readthedocs.io/en/latest/advanced-usage.html#ssl-warnings\n",
      "  InsecureRequestWarning)\n"
     ]
    }
   ],
   "source": [
    "r = req.post(host + '/sessions', data=json.dumps(data), headers=headers, verify=False).json()"
   ]
  },
  {
   "cell_type": "code",
   "execution_count": 26,
   "metadata": {},
   "outputs": [
    {
     "data": {
      "text/plain": [
       "{'id': 4,\n",
       " 'name': None,\n",
       " 'appId': None,\n",
       " 'owner': None,\n",
       " 'proxyUser': None,\n",
       " 'state': 'starting',\n",
       " 'kind': 'pyspark',\n",
       " 'appInfo': {'driverLogUrl': None, 'sparkUiUrl': None},\n",
       " 'log': ['stdout: ', '\\nstderr: ', '\\nYARN Diagnostics: ']}"
      ]
     },
     "execution_count": 26,
     "metadata": {},
     "output_type": "execute_result"
    }
   ],
   "source": [
    "r"
   ]
  },
  {
   "cell_type": "markdown",
   "metadata": {},
   "source": [
    "## Check Session"
   ]
  },
  {
   "cell_type": "code",
   "execution_count": 37,
   "metadata": {},
   "outputs": [
    {
     "name": "stderr",
     "output_type": "stream",
     "text": [
      "/home/shoulderhu/GitHub/heroku-cloud-www/venv/lib/python3.6/site-packages/urllib3/connectionpool.py:847: InsecureRequestWarning: Unverified HTTPS request is being made. Adding certificate verification is strongly advised. See: https://urllib3.readthedocs.io/en/latest/advanced-usage.html#ssl-warnings\n",
      "  InsecureRequestWarning)\n"
     ]
    },
    {
     "data": {
      "text/plain": [
       "{'from': 0,\n",
       " 'total': 1,\n",
       " 'sessions': [{'id': 4,\n",
       "   'name': None,\n",
       "   'appId': 'application_1560670753964_0005',\n",
       "   'owner': None,\n",
       "   'proxyUser': None,\n",
       "   'state': 'idle',\n",
       "   'kind': 'pyspark',\n",
       "   'appInfo': {'driverLogUrl': 'http://data1:8042/node/containerlogs/container_1560670753964_0005_01_000001/hadoop',\n",
       "    'sparkUiUrl': 'http://name:8088/proxy/application_1560670753964_0005/'},\n",
       "   'log': ['stdout: ',\n",
       "    '\\nstderr: ',\n",
       "    \"19/06/16 15:54:00 WARN RSCConf: Your hostname, name, resolves to a loopback address, but we couldn't find any external IP address!\",\n",
       "    '19/06/16 15:54:00 WARN RSCConf: Set livy.rsc.rpc.server.address if you need to bind to another address.',\n",
       "    '19/06/16 15:54:03 WARN Client: Same name resource file:///usr/local/spark/python/lib/pyspark.zip added multiple times to distributed cache',\n",
       "    '19/06/16 15:54:03 WARN Client: Same name resource file:///usr/local/spark/python/lib/py4j-0.10.7-src.zip added multiple times to distributed cache',\n",
       "    '\\nYARN Diagnostics: ']}]}"
      ]
     },
     "execution_count": 37,
     "metadata": {},
     "output_type": "execute_result"
    }
   ],
   "source": [
    "session_url = host + \"/sessions/\"\n",
    "r = req.get(session_url, headers=headers, verify=False).json()\n",
    "r"
   ]
  },
  {
   "cell_type": "code",
   "execution_count": 36,
   "metadata": {},
   "outputs": [
    {
     "name": "stderr",
     "output_type": "stream",
     "text": [
      "/home/shoulderhu/GitHub/heroku-cloud-www/venv/lib/python3.6/site-packages/urllib3/connectionpool.py:847: InsecureRequestWarning: Unverified HTTPS request is being made. Adding certificate verification is strongly advised. See: https://urllib3.readthedocs.io/en/latest/advanced-usage.html#ssl-warnings\n",
      "  InsecureRequestWarning)\n"
     ]
    },
    {
     "data": {
      "text/plain": [
       "{'id': 4, 'state': 'idle'}"
      ]
     },
     "execution_count": 36,
     "metadata": {},
     "output_type": "execute_result"
    }
   ],
   "source": [
    "session_url = host + \"/sessions/\" + \"4/state\"\n",
    "r = req.get(session_url, headers=headers, verify=False).json()\n",
    "r"
   ]
  },
  {
   "cell_type": "code",
   "execution_count": 27,
   "metadata": {},
   "outputs": [
    {
     "name": "stderr",
     "output_type": "stream",
     "text": [
      "/home/shoulderhu/GitHub/heroku-cloud-www/venv/lib/python3.6/site-packages/urllib3/connectionpool.py:847: InsecureRequestWarning: Unverified HTTPS request is being made. Adding certificate verification is strongly advised. See: https://urllib3.readthedocs.io/en/latest/advanced-usage.html#ssl-warnings\n",
      "  InsecureRequestWarning)\n"
     ]
    },
    {
     "data": {
      "text/plain": [
       "{'id': 4,\n",
       " 'name': None,\n",
       " 'appId': 'application_1560670753964_0005',\n",
       " 'owner': None,\n",
       " 'proxyUser': None,\n",
       " 'state': 'idle',\n",
       " 'kind': 'pyspark',\n",
       " 'appInfo': {'driverLogUrl': 'http://data1:8042/node/containerlogs/container_1560670753964_0005_01_000001/hadoop',\n",
       "  'sparkUiUrl': 'http://name:8088/proxy/application_1560670753964_0005/'},\n",
       " 'log': ['stdout: ',\n",
       "  '\\nstderr: ',\n",
       "  \"19/06/16 15:54:00 WARN RSCConf: Your hostname, name, resolves to a loopback address, but we couldn't find any external IP address!\",\n",
       "  '19/06/16 15:54:00 WARN RSCConf: Set livy.rsc.rpc.server.address if you need to bind to another address.',\n",
       "  '19/06/16 15:54:03 WARN Client: Same name resource file:///usr/local/spark/python/lib/pyspark.zip added multiple times to distributed cache',\n",
       "  '19/06/16 15:54:03 WARN Client: Same name resource file:///usr/local/spark/python/lib/py4j-0.10.7-src.zip added multiple times to distributed cache',\n",
       "  '\\nYARN Diagnostics: ']}"
      ]
     },
     "execution_count": 27,
     "metadata": {},
     "output_type": "execute_result"
    }
   ],
   "source": [
    "session_url = host + \"/sessions/\" + str(r[\"id\"])\n",
    "r = req.get(session_url, headers=headers, verify=False).json()\n",
    "r"
   ]
  },
  {
   "cell_type": "code",
   "execution_count": 28,
   "metadata": {},
   "outputs": [
    {
     "data": {
      "text/plain": [
       "'idle'"
      ]
     },
     "execution_count": 28,
     "metadata": {},
     "output_type": "execute_result"
    }
   ],
   "source": [
    "r[\"state\"]"
   ]
  },
  {
   "cell_type": "markdown",
   "metadata": {},
   "source": [
    "## Create Statement"
   ]
  },
  {
   "cell_type": "code",
   "execution_count": 31,
   "metadata": {
    "scrolled": true
   },
   "outputs": [
    {
     "name": "stderr",
     "output_type": "stream",
     "text": [
      "/home/shoulderhu/GitHub/heroku-cloud-www/venv/lib/python3.6/site-packages/urllib3/connectionpool.py:847: InsecureRequestWarning: Unverified HTTPS request is being made. Adding certificate verification is strongly advised. See: https://urllib3.readthedocs.io/en/latest/advanced-usage.html#ssl-warnings\n",
      "  InsecureRequestWarning)\n"
     ]
    },
    {
     "data": {
      "text/plain": [
       "{'id': 0, 'code': 'sc', 'state': 'waiting', 'output': None, 'progress': 0.0}"
      ]
     },
     "execution_count": 31,
     "metadata": {},
     "output_type": "execute_result"
    }
   ],
   "source": [
    "statements_url = session_url + '/statements'\n",
    "data = {'code': 'sc'}\n",
    "r = req.post(statements_url, data=json.dumps(data), headers=headers, verify=False).json()\n",
    "r"
   ]
  },
  {
   "cell_type": "markdown",
   "metadata": {},
   "source": [
    "## Check Statement"
   ]
  },
  {
   "cell_type": "code",
   "execution_count": 38,
   "metadata": {},
   "outputs": [
    {
     "name": "stderr",
     "output_type": "stream",
     "text": [
      "/home/shoulderhu/GitHub/heroku-cloud-www/venv/lib/python3.6/site-packages/urllib3/connectionpool.py:847: InsecureRequestWarning: Unverified HTTPS request is being made. Adding certificate verification is strongly advised. See: https://urllib3.readthedocs.io/en/latest/advanced-usage.html#ssl-warnings\n",
      "  InsecureRequestWarning)\n"
     ]
    },
    {
     "data": {
      "text/plain": [
       "{'id': 0,\n",
       " 'code': 'sc',\n",
       " 'state': 'available',\n",
       " 'output': {'status': 'ok',\n",
       "  'execution_count': 0,\n",
       "  'data': {'text/plain': '<SparkContext master=yarn appName=livy-session-4>'}},\n",
       " 'progress': 1.0}"
      ]
     },
     "execution_count": 38,
     "metadata": {},
     "output_type": "execute_result"
    }
   ],
   "source": [
    "statement_url = statements_url + \"/0\" #+ str(r[\"id\"])\n",
    "r = req.get(statement_url, headers=headers, verify=False).json()\n",
    "r"
   ]
  },
  {
   "cell_type": "markdown",
   "metadata": {},
   "source": [
    "## Delete Session"
   ]
  },
  {
   "cell_type": "code",
   "execution_count": 51,
   "metadata": {
    "scrolled": true
   },
   "outputs": [
    {
     "name": "stderr",
     "output_type": "stream",
     "text": [
      "/home/shoulderhu/GitHub/heroku-cloud-www/venv/lib/python3.6/site-packages/urllib3/connectionpool.py:847: InsecureRequestWarning: Unverified HTTPS request is being made. Adding certificate verification is strongly advised. See: https://urllib3.readthedocs.io/en/latest/advanced-usage.html#ssl-warnings\n",
      "  InsecureRequestWarning)\n"
     ]
    },
    {
     "data": {
      "text/plain": [
       "<Response [200]>"
      ]
     },
     "execution_count": 51,
     "metadata": {},
     "output_type": "execute_result"
    }
   ],
   "source": [
    "session_url = \"https://192.168.1.100:2096/sessions/0\"\n",
    "req.delete(session_url, verify=False)"
   ]
  },
  {
   "cell_type": "code",
   "execution_count": null,
   "metadata": {},
   "outputs": [],
   "source": []
  }
 ],
 "metadata": {
  "kernelspec": {
   "display_name": "Python 3",
   "language": "python",
   "name": "python3"
  },
  "language_info": {
   "codemirror_mode": {
    "name": "ipython",
    "version": 3
   },
   "file_extension": ".py",
   "mimetype": "text/x-python",
   "name": "python",
   "nbconvert_exporter": "python",
   "pygments_lexer": "ipython3",
   "version": "3.6.8"
  }
 },
 "nbformat": 4,
 "nbformat_minor": 2
}
